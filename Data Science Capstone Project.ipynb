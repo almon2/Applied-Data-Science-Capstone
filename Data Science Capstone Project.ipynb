{
 "cells": [
  {
   "cell_type": "code",
   "execution_count": 2,
   "metadata": {
    "scrolled": false
   },
   "outputs": [],
   "source": [
    "import pandas as pd\n",
    "import numpy as np\n",
    "from datetime import datetime as dt\n",
    "import numpy as np\n",
    "import seaborn as sns\n",
    "import matplotlib.pyplot as plt\n",
    "from scipy import stats\n",
    "import pandas as pd\n",
    "from datetime import datetime\n",
    "pd.options.mode.chained_assignment = None  # default='warn'   pd.set_option('chained_assignment', None) also works"
   ]
  },
  {
   "cell_type": "markdown",
   "metadata": {},
   "source": [
    "NOTE: Load the file that was downloaded from coursera. parse dates to allow datetime.\n",
    "\n",
    "create a main pandas dataframe with the data."
   ]
  },
  {
   "cell_type": "code",
   "execution_count": 3,
   "metadata": {},
   "outputs": [
    {
     "data": {
      "text/html": [
       "<div>\n",
       "<style scoped>\n",
       "    .dataframe tbody tr th:only-of-type {\n",
       "        vertical-align: middle;\n",
       "    }\n",
       "\n",
       "    .dataframe tbody tr th {\n",
       "        vertical-align: top;\n",
       "    }\n",
       "\n",
       "    .dataframe thead th {\n",
       "        text-align: right;\n",
       "    }\n",
       "</style>\n",
       "<table border=\"1\" class=\"dataframe\">\n",
       "  <thead>\n",
       "    <tr style=\"text-align: right;\">\n",
       "      <th></th>\n",
       "      <th>SEVERITYCODE</th>\n",
       "      <th>X</th>\n",
       "      <th>Y</th>\n",
       "      <th>OBJECTID</th>\n",
       "      <th>INCKEY</th>\n",
       "      <th>COLDETKEY</th>\n",
       "      <th>REPORTNO</th>\n",
       "      <th>STATUS</th>\n",
       "      <th>ADDRTYPE</th>\n",
       "      <th>INTKEY</th>\n",
       "      <th>...</th>\n",
       "      <th>ROADCOND</th>\n",
       "      <th>LIGHTCOND</th>\n",
       "      <th>PEDROWNOTGRNT</th>\n",
       "      <th>SDOTCOLNUM</th>\n",
       "      <th>SPEEDING</th>\n",
       "      <th>ST_COLCODE</th>\n",
       "      <th>ST_COLDESC</th>\n",
       "      <th>SEGLANEKEY</th>\n",
       "      <th>CROSSWALKKEY</th>\n",
       "      <th>HITPARKEDCAR</th>\n",
       "    </tr>\n",
       "  </thead>\n",
       "  <tbody>\n",
       "    <tr>\n",
       "      <td>0</td>\n",
       "      <td>2</td>\n",
       "      <td>-122.323148</td>\n",
       "      <td>47.703140</td>\n",
       "      <td>1</td>\n",
       "      <td>1307</td>\n",
       "      <td>1307</td>\n",
       "      <td>3502005</td>\n",
       "      <td>Matched</td>\n",
       "      <td>Intersection</td>\n",
       "      <td>37475.0</td>\n",
       "      <td>...</td>\n",
       "      <td>Wet</td>\n",
       "      <td>Daylight</td>\n",
       "      <td>NaN</td>\n",
       "      <td>NaN</td>\n",
       "      <td>NaN</td>\n",
       "      <td>10</td>\n",
       "      <td>Entering at angle</td>\n",
       "      <td>0</td>\n",
       "      <td>0</td>\n",
       "      <td>N</td>\n",
       "    </tr>\n",
       "    <tr>\n",
       "      <td>1</td>\n",
       "      <td>1</td>\n",
       "      <td>-122.347294</td>\n",
       "      <td>47.647172</td>\n",
       "      <td>2</td>\n",
       "      <td>52200</td>\n",
       "      <td>52200</td>\n",
       "      <td>2607959</td>\n",
       "      <td>Matched</td>\n",
       "      <td>Block</td>\n",
       "      <td>NaN</td>\n",
       "      <td>...</td>\n",
       "      <td>Wet</td>\n",
       "      <td>Dark - Street Lights On</td>\n",
       "      <td>NaN</td>\n",
       "      <td>6354039.0</td>\n",
       "      <td>NaN</td>\n",
       "      <td>11</td>\n",
       "      <td>From same direction - both going straight - bo...</td>\n",
       "      <td>0</td>\n",
       "      <td>0</td>\n",
       "      <td>N</td>\n",
       "    </tr>\n",
       "    <tr>\n",
       "      <td>2</td>\n",
       "      <td>1</td>\n",
       "      <td>-122.334540</td>\n",
       "      <td>47.607871</td>\n",
       "      <td>3</td>\n",
       "      <td>26700</td>\n",
       "      <td>26700</td>\n",
       "      <td>1482393</td>\n",
       "      <td>Matched</td>\n",
       "      <td>Block</td>\n",
       "      <td>NaN</td>\n",
       "      <td>...</td>\n",
       "      <td>Dry</td>\n",
       "      <td>Daylight</td>\n",
       "      <td>NaN</td>\n",
       "      <td>4323031.0</td>\n",
       "      <td>NaN</td>\n",
       "      <td>32</td>\n",
       "      <td>One parked--one moving</td>\n",
       "      <td>0</td>\n",
       "      <td>0</td>\n",
       "      <td>N</td>\n",
       "    </tr>\n",
       "    <tr>\n",
       "      <td>3</td>\n",
       "      <td>1</td>\n",
       "      <td>-122.334803</td>\n",
       "      <td>47.604803</td>\n",
       "      <td>4</td>\n",
       "      <td>1144</td>\n",
       "      <td>1144</td>\n",
       "      <td>3503937</td>\n",
       "      <td>Matched</td>\n",
       "      <td>Block</td>\n",
       "      <td>NaN</td>\n",
       "      <td>...</td>\n",
       "      <td>Dry</td>\n",
       "      <td>Daylight</td>\n",
       "      <td>NaN</td>\n",
       "      <td>NaN</td>\n",
       "      <td>NaN</td>\n",
       "      <td>23</td>\n",
       "      <td>From same direction - all others</td>\n",
       "      <td>0</td>\n",
       "      <td>0</td>\n",
       "      <td>N</td>\n",
       "    </tr>\n",
       "  </tbody>\n",
       "</table>\n",
       "<p>4 rows × 38 columns</p>\n",
       "</div>"
      ],
      "text/plain": [
       "   SEVERITYCODE           X          Y  OBJECTID  INCKEY  COLDETKEY REPORTNO  \\\n",
       "0             2 -122.323148  47.703140         1    1307       1307  3502005   \n",
       "1             1 -122.347294  47.647172         2   52200      52200  2607959   \n",
       "2             1 -122.334540  47.607871         3   26700      26700  1482393   \n",
       "3             1 -122.334803  47.604803         4    1144       1144  3503937   \n",
       "\n",
       "    STATUS      ADDRTYPE   INTKEY  ... ROADCOND                LIGHTCOND  \\\n",
       "0  Matched  Intersection  37475.0  ...      Wet                 Daylight   \n",
       "1  Matched         Block      NaN  ...      Wet  Dark - Street Lights On   \n",
       "2  Matched         Block      NaN  ...      Dry                 Daylight   \n",
       "3  Matched         Block      NaN  ...      Dry                 Daylight   \n",
       "\n",
       "  PEDROWNOTGRNT  SDOTCOLNUM SPEEDING ST_COLCODE  \\\n",
       "0           NaN         NaN      NaN         10   \n",
       "1           NaN   6354039.0      NaN         11   \n",
       "2           NaN   4323031.0      NaN         32   \n",
       "3           NaN         NaN      NaN         23   \n",
       "\n",
       "                                          ST_COLDESC  SEGLANEKEY  \\\n",
       "0                                  Entering at angle           0   \n",
       "1  From same direction - both going straight - bo...           0   \n",
       "2                             One parked--one moving           0   \n",
       "3                   From same direction - all others           0   \n",
       "\n",
       "   CROSSWALKKEY  HITPARKEDCAR  \n",
       "0             0             N  \n",
       "1             0             N  \n",
       "2             0             N  \n",
       "3             0             N  \n",
       "\n",
       "[4 rows x 38 columns]"
      ]
     },
     "execution_count": 3,
     "metadata": {},
     "output_type": "execute_result"
    }
   ],
   "source": [
    "file = 'Data-Collisions.csv'\n",
    "parse_dates=['INCDATE','INCDTTM']\n",
    "\n",
    "\n",
    "df_main = pd.read_csv(file,parse_dates=parse_dates,low_memory=False)\n",
    "df_main.head(4)"
   ]
  },
  {
   "cell_type": "markdown",
   "metadata": {},
   "source": [
    "NOTE: create a copy of the main dataframe to prevent overwriting.\n",
    "\n",
    "dropped columns that are irrelevant to a model that predicts severity codes."
   ]
  },
  {
   "cell_type": "code",
   "execution_count": 4,
   "metadata": {},
   "outputs": [
    {
     "name": "stdout",
     "output_type": "stream",
     "text": [
      "194673\n"
     ]
    }
   ],
   "source": [
    "df=df_main.copy()\n",
    "print(len(df))\n",
    "#drop columns that will not add value to ML. Attributes had over 100k values missing. \n",
    "df.drop(columns={'OBJECTID','SEVERITYDESC','SDOT_COLCODE','INCKEY',\n",
    "                 'COLDETKEY','REPORTNO','STATUS','INTKEY',\n",
    "                 'EXCEPTRSNCODE','EXCEPTRSNDESC','INATTENTIONIND',\n",
    "                 'SDOTCOLNUM','JUNCTIONTYPE','PEDROWNOTGRNT','SPEEDING',\n",
    "                'SEGLANEKEY','CROSSWALKKEY','ST_COLCODE','SEVERITYCODE.1'},inplace=True)\n",
    "# print(df.isna().sum())"
   ]
  },
  {
   "cell_type": "markdown",
   "metadata": {},
   "source": [
    "NOTE: added columns that specify the day, month, day/night, and season of the accident data."
   ]
  },
  {
   "cell_type": "code",
   "execution_count": 5,
   "metadata": {},
   "outputs": [],
   "source": [
    "# df.INCDATE=df.INCDATE.dt.normalize()\n",
    "df['DAY'] = df.INCDTTM.dt.weekday\n",
    "df['MONTH'] = df.INCDTTM.dt.month\n",
    "df.DAY.replace([0,1,2,3,4,5,6],['Mon','Tue','Wed','Thu','Fri','Sat','Sun'],inplace=True)\n",
    "df.MONTH.replace([1,2,3,4,5,6,7,8,9,10,11,12],['Jan','Feb','Mar','Apr','May','Jun','Jul','Aug','Sep','Oct','Nov','Dec'],inplace=True)\n",
    "\n",
    "#determine if day or night\n",
    "df.loc[(df.INCDTTM.dt.hour>=6) & (df.INCDTTM.dt.hour<18),'DAY/NIGHT']='Day'\n",
    "df.loc[(df.INCDTTM.dt.hour>=18) & (df.INCDTTM.dt.hour<=24),'DAY/NIGHT']='Night'\n",
    "df.loc[(df.INCDTTM.dt.hour>=0) & (df.INCDTTM.dt.hour<6),'DAY/NIGHT']='Night'\n",
    "\n",
    "#determine the season\n",
    "df.loc[(df.INCDTTM.dt.month==1)|(df.INCDTTM.dt.month==2)|(df.INCDTTM.dt.month==12),'SEASON']='Winter'\n",
    "df.loc[(df.INCDTTM.dt.month==3)|(df.INCDTTM.dt.month==4)|(df.INCDTTM.dt.month==5),'SEASON']='Spring'\n",
    "df.loc[(df.INCDTTM.dt.month==6)|(df.INCDTTM.dt.month==7)|(df.INCDTTM.dt.month==8),'SEASON']='Summer'\n",
    "df.loc[(df.INCDTTM.dt.month==9)|(df.INCDTTM.dt.month==10)|(df.INCDTTM.dt.month==11),'SEASON']='Fall'"
   ]
  },
  {
   "cell_type": "markdown",
   "metadata": {},
   "source": [
    "NOTE: clean up data. dropped missing data for critical attibutes and cleaned up attributes that had data meaning the same thing (e.g. 0 = N and 1 = Y). Since there was not distinguishable difference between Dark and with no street lights, lights off, or unknown lighting, they were all combined."
   ]
  },
  {
   "cell_type": "code",
   "execution_count": 7,
   "metadata": {},
   "outputs": [
    {
     "name": "stdout",
     "output_type": "stream",
     "text": [
      "Total Number of Data Points before cleaning:  166200\n",
      "Total Number of Data Points after cleaning:  166200\n"
     ]
    }
   ],
   "source": [
    "print('Total Number of Data Points before cleaning: ', len(df))\n",
    "df=df[df.X.notna()]\n",
    "df=df[df.Y.notna()]\n",
    "df=df[df.SEVERITYCODE.notna()]\n",
    "df=df[df.COLLISIONTYPE.notna()]\n",
    "df=df[df.WEATHER.notna()]\n",
    "df=df[df.ROADCOND.notna()]\n",
    "df=df[df.LIGHTCOND.notna()]\n",
    "df.drop(df[(df['SEVERITYCODE']=='0')].index,inplace=True)\n",
    "df.drop(df[(df['WEATHER']=='Unknown')].index,inplace=True)\n",
    "df.drop(df[(df['WEATHER']=='Other')].index,inplace=True)\n",
    "df.drop(df[(df['ROADCOND']=='Unknown')].index,inplace=True)\n",
    "df.drop(df[(df['ROADCOND']=='Other')].index,inplace=True)\n",
    "df.drop(df[(df['LIGHTCOND']=='Unknown')].index,inplace=True)\n",
    "df.drop(df[(df['LIGHTCOND']=='Other')].index,inplace=True)\n",
    "#change 0,1 to N,Y for consistency\n",
    "df.UNDERINFL.loc[df.UNDERINFL=='0']='N'\n",
    "df.UNDERINFL.loc[df.UNDERINFL=='1']='Y'\n",
    "\n",
    "#change dark lighting categories to a single dark with no lighting available.\n",
    "df.LIGHTCOND.loc[df.LIGHTCOND=='Dark - No Street Lights']='Dark - No Lighting'\n",
    "df.LIGHTCOND.loc[df.LIGHTCOND=='Dark - Street Lights Off']='Dark - No Lighting'\n",
    "df.LIGHTCOND.loc[df.LIGHTCOND=='Dark - Unknown Lighting']='Dark - No Lighting'\n",
    "#change 2b to a 2 (general injury) as selection of injury severity assumed to be subjective.\n",
    "df.SEVERITYCODE.loc[df.SEVERITYCODE=='2b']='2'\n",
    "\n",
    "\n",
    "df.reset_index(inplace=True)\n",
    "print('Total Number of Data Points after cleaning: ', len(df))"
   ]
  },
  {
   "cell_type": "code",
   "execution_count": 8,
   "metadata": {},
   "outputs": [
    {
     "data": {
      "text/plain": [
       "166200"
      ]
     },
     "execution_count": 8,
     "metadata": {},
     "output_type": "execute_result"
    }
   ],
   "source": [
    "df.groupby('SEVERITYCODE')['X'].count().sum()"
   ]
  },
  {
   "cell_type": "markdown",
   "metadata": {},
   "source": [
    "NOTE: clustered the data as there were ober 150k data points. this allows to better plot the data. clusters were created using kmeans from scipy."
   ]
  },
  {
   "cell_type": "code",
   "execution_count": 9,
   "metadata": {},
   "outputs": [],
   "source": [
    "# !conda install -c conda-forge folium=0.5.0 --yes\n",
    "import folium\n",
    "from folium import plugins\n",
    "from folium.plugins import MarkerCluster\n",
    "import folium\n",
    "\n",
    "seattle_geo = r'seattle.geojson' # geojson file\n"
   ]
  },
  {
   "cell_type": "code",
   "execution_count": 10,
   "metadata": {},
   "outputs": [
    {
     "data": {
      "image/png": "[encoded data removed]",
      "text/plain": [
       "<Figure size 432x288 with 1 Axes>"
      ]
     },
     "metadata": {
      "needs_background": "light"
     },
     "output_type": "display_data"
    }
   ],
   "source": [
    "import numpy as np\n",
    "import matplotlib.pyplot as plt\n",
    "from scipy.cluster.vq import kmeans2, whiten\n",
    "\n",
    "coordinates= np.column_stack((df['Y'],df['X']))\n",
    "\n",
    "x, label = kmeans2(whiten(coordinates), 40, iter = 20)  \n",
    "plt.scatter(coordinates[:,0], coordinates[:,1], c=label);\n",
    "plt.show()"
   ]
  },
  {
   "cell_type": "code",
   "execution_count": 9,
   "metadata": {},
   "outputs": [],
   "source": [
    "label = pd.DataFrame(label)\n",
    "df2=pd.concat((df,label),axis=1,ignore_index=False)\n",
    "df2.rename(columns={0:'Cluster_Label'},inplace=True)"
   ]
  },
  {
   "cell_type": "markdown",
   "metadata": {},
   "source": [
    "NOTE: labels were created for each cluster. perhaps there is a trend with accidents and the cluster they are in. maybe it is a highway or a highly populated area or tourist traffic area."
   ]
  },
  {
   "cell_type": "code",
   "execution_count": 10,
   "metadata": {},
   "outputs": [
    {
     "data": {
      "text/html": [
       "<div>\n",
       "<style scoped>\n",
       "    .dataframe tbody tr th:only-of-type {\n",
       "        vertical-align: middle;\n",
       "    }\n",
       "\n",
       "    .dataframe tbody tr th {\n",
       "        vertical-align: top;\n",
       "    }\n",
       "\n",
       "    .dataframe thead th {\n",
       "        text-align: right;\n",
       "    }\n",
       "</style>\n",
       "<table border=\"1\" class=\"dataframe\">\n",
       "  <thead>\n",
       "    <tr style=\"text-align: right;\">\n",
       "      <th></th>\n",
       "      <th>Cluster_Label</th>\n",
       "      <th>Cluster_X</th>\n",
       "      <th>Cluster_Y</th>\n",
       "      <th>Cluster_Count</th>\n",
       "    </tr>\n",
       "  </thead>\n",
       "  <tbody>\n",
       "    <tr>\n",
       "      <td>0</td>\n",
       "      <td>0</td>\n",
       "      <td>-122.307433</td>\n",
       "      <td>47.687267</td>\n",
       "      <td>2792</td>\n",
       "    </tr>\n",
       "    <tr>\n",
       "      <td>1</td>\n",
       "      <td>1</td>\n",
       "      <td>-122.346887</td>\n",
       "      <td>47.724038</td>\n",
       "      <td>4204</td>\n",
       "    </tr>\n",
       "  </tbody>\n",
       "</table>\n",
       "</div>"
      ],
      "text/plain": [
       "   Cluster_Label   Cluster_X  Cluster_Y  Cluster_Count\n",
       "0              0 -122.307433  47.687267           2792\n",
       "1              1 -122.346887  47.724038           4204"
      ]
     },
     "execution_count": 10,
     "metadata": {},
     "output_type": "execute_result"
    }
   ],
   "source": [
    "df_cluster=df2.groupby(['Cluster_Label']).agg({'X':'mean','Y':'mean','SEVERITYCODE':'count'})\n",
    "df_cluster=df_cluster.rename(columns={'X':'Cluster_X','Y':'Cluster_Y','SEVERITYCODE':'Cluster_Count'})\n",
    "\n",
    "df_cluster=df_cluster.reset_index()\n",
    "df_cluster.head(2)"
   ]
  },
  {
   "cell_type": "code",
   "execution_count": 11,
   "metadata": {},
   "outputs": [
    {
     "data": {
      "text/html": [
       "<div>\n",
       "<style scoped>\n",
       "    .dataframe tbody tr th:only-of-type {\n",
       "        vertical-align: middle;\n",
       "    }\n",
       "\n",
       "    .dataframe tbody tr th {\n",
       "        vertical-align: top;\n",
       "    }\n",
       "\n",
       "    .dataframe thead th {\n",
       "        text-align: right;\n",
       "    }\n",
       "</style>\n",
       "<table border=\"1\" class=\"dataframe\">\n",
       "  <thead>\n",
       "    <tr style=\"text-align: right;\">\n",
       "      <th></th>\n",
       "      <th>index</th>\n",
       "      <th>SEVERITYCODE</th>\n",
       "      <th>X</th>\n",
       "      <th>Y</th>\n",
       "      <th>ADDRTYPE</th>\n",
       "      <th>LOCATION</th>\n",
       "      <th>COLLISIONTYPE</th>\n",
       "      <th>PERSONCOUNT</th>\n",
       "      <th>PEDCOUNT</th>\n",
       "      <th>PEDCYLCOUNT</th>\n",
       "      <th>...</th>\n",
       "      <th>ST_COLDESC</th>\n",
       "      <th>HITPARKEDCAR</th>\n",
       "      <th>DAY</th>\n",
       "      <th>MONTH</th>\n",
       "      <th>DAY/NIGHT</th>\n",
       "      <th>SEASON</th>\n",
       "      <th>Cluster_Label</th>\n",
       "      <th>Cluster_X</th>\n",
       "      <th>Cluster_Y</th>\n",
       "      <th>Cluster_Count</th>\n",
       "    </tr>\n",
       "  </thead>\n",
       "  <tbody>\n",
       "    <tr>\n",
       "      <td>0</td>\n",
       "      <td>0</td>\n",
       "      <td>2</td>\n",
       "      <td>-122.323148</td>\n",
       "      <td>47.703140</td>\n",
       "      <td>Intersection</td>\n",
       "      <td>5TH AVE NE AND NE 103RD ST</td>\n",
       "      <td>Angles</td>\n",
       "      <td>2</td>\n",
       "      <td>0</td>\n",
       "      <td>0</td>\n",
       "      <td>...</td>\n",
       "      <td>Entering at angle</td>\n",
       "      <td>N</td>\n",
       "      <td>Wed</td>\n",
       "      <td>Mar</td>\n",
       "      <td>Day</td>\n",
       "      <td>Spring</td>\n",
       "      <td>27</td>\n",
       "      <td>-122.320785</td>\n",
       "      <td>47.715409</td>\n",
       "      <td>4695</td>\n",
       "    </tr>\n",
       "    <tr>\n",
       "      <td>1</td>\n",
       "      <td>1</td>\n",
       "      <td>1</td>\n",
       "      <td>-122.347294</td>\n",
       "      <td>47.647172</td>\n",
       "      <td>Block</td>\n",
       "      <td>AURORA BR BETWEEN RAYE ST AND BRIDGE WAY N</td>\n",
       "      <td>Sideswipe</td>\n",
       "      <td>2</td>\n",
       "      <td>0</td>\n",
       "      <td>0</td>\n",
       "      <td>...</td>\n",
       "      <td>From same direction - both going straight - bo...</td>\n",
       "      <td>N</td>\n",
       "      <td>Wed</td>\n",
       "      <td>Dec</td>\n",
       "      <td>Night</td>\n",
       "      <td>Winter</td>\n",
       "      <td>34</td>\n",
       "      <td>-122.350728</td>\n",
       "      <td>47.654899</td>\n",
       "      <td>5883</td>\n",
       "    </tr>\n",
       "    <tr>\n",
       "      <td>2</td>\n",
       "      <td>2</td>\n",
       "      <td>1</td>\n",
       "      <td>-122.334540</td>\n",
       "      <td>47.607871</td>\n",
       "      <td>Block</td>\n",
       "      <td>4TH AVE BETWEEN SENECA ST AND UNIVERSITY ST</td>\n",
       "      <td>Parked Car</td>\n",
       "      <td>4</td>\n",
       "      <td>0</td>\n",
       "      <td>0</td>\n",
       "      <td>...</td>\n",
       "      <td>One parked--one moving</td>\n",
       "      <td>N</td>\n",
       "      <td>Thu</td>\n",
       "      <td>Nov</td>\n",
       "      <td>Day</td>\n",
       "      <td>Fall</td>\n",
       "      <td>32</td>\n",
       "      <td>-122.336413</td>\n",
       "      <td>47.608916</td>\n",
       "      <td>9431</td>\n",
       "    </tr>\n",
       "    <tr>\n",
       "      <td>3</td>\n",
       "      <td>3</td>\n",
       "      <td>1</td>\n",
       "      <td>-122.334803</td>\n",
       "      <td>47.604803</td>\n",
       "      <td>Block</td>\n",
       "      <td>2ND AVE BETWEEN MARION ST AND MADISON ST</td>\n",
       "      <td>Other</td>\n",
       "      <td>3</td>\n",
       "      <td>0</td>\n",
       "      <td>0</td>\n",
       "      <td>...</td>\n",
       "      <td>From same direction - all others</td>\n",
       "      <td>N</td>\n",
       "      <td>Fri</td>\n",
       "      <td>Mar</td>\n",
       "      <td>Day</td>\n",
       "      <td>Spring</td>\n",
       "      <td>32</td>\n",
       "      <td>-122.336413</td>\n",
       "      <td>47.608916</td>\n",
       "      <td>9431</td>\n",
       "    </tr>\n",
       "  </tbody>\n",
       "</table>\n",
       "<p>4 rows × 28 columns</p>\n",
       "</div>"
      ],
      "text/plain": [
       "   index  SEVERITYCODE           X          Y      ADDRTYPE  \\\n",
       "0      0             2 -122.323148  47.703140  Intersection   \n",
       "1      1             1 -122.347294  47.647172         Block   \n",
       "2      2             1 -122.334540  47.607871         Block   \n",
       "3      3             1 -122.334803  47.604803         Block   \n",
       "\n",
       "                                      LOCATION COLLISIONTYPE  PERSONCOUNT  \\\n",
       "0                   5TH AVE NE AND NE 103RD ST        Angles            2   \n",
       "1   AURORA BR BETWEEN RAYE ST AND BRIDGE WAY N     Sideswipe            2   \n",
       "2  4TH AVE BETWEEN SENECA ST AND UNIVERSITY ST    Parked Car            4   \n",
       "3     2ND AVE BETWEEN MARION ST AND MADISON ST         Other            3   \n",
       "\n",
       "   PEDCOUNT  PEDCYLCOUNT  ...  \\\n",
       "0         0            0  ...   \n",
       "1         0            0  ...   \n",
       "2         0            0  ...   \n",
       "3         0            0  ...   \n",
       "\n",
       "                                          ST_COLDESC HITPARKEDCAR  DAY MONTH  \\\n",
       "0                                  Entering at angle            N  Wed   Mar   \n",
       "1  From same direction - both going straight - bo...            N  Wed   Dec   \n",
       "2                             One parked--one moving            N  Thu   Nov   \n",
       "3                   From same direction - all others            N  Fri   Mar   \n",
       "\n",
       "  DAY/NIGHT  SEASON Cluster_Label   Cluster_X  Cluster_Y Cluster_Count  \n",
       "0       Day  Spring            27 -122.320785  47.715409          4695  \n",
       "1     Night  Winter            34 -122.350728  47.654899          5883  \n",
       "2       Day    Fall            32 -122.336413  47.608916          9431  \n",
       "3       Day  Spring            32 -122.336413  47.608916          9431  \n",
       "\n",
       "[4 rows x 28 columns]"
      ]
     },
     "execution_count": 11,
     "metadata": {},
     "output_type": "execute_result"
    }
   ],
   "source": [
    "df4 = pd.merge(df2, df_cluster,\n",
    "                        on=['Cluster_Label'], how='left')\n",
    "df4.groupby('Cluster_Label')\n",
    "df4.Cluster_Count.astype('str')\n",
    "df4.head(4)"
   ]
  },
  {
   "cell_type": "code",
   "execution_count": 12,
   "metadata": {
    "scrolled": true
   },
   "outputs": [
    {
     "data": {
      "text/html": [
       "<div style=\"width:100%;\"><div style=\"position:relative;width:100%;height:0;padding-bottom:60%;\"><span style=\"color:#565656\">Make this Notebook Trusted to load map: File -> Trust Notebook</span><iframe src=\"about:blank\" style=\"position:absolute;width:100%;height:100%;left:0;top:0;border:none !important;\" data-html=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 onload=\"this.contentDocument.open();this.contentDocument.write(atob(this.getAttribute('data-html')));this.contentDocument.close();\" allowfullscreen webkitallowfullscreen mozallowfullscreen></iframe></div></div>"
      ],
      "text/plain": [
       "<folium.folium.Map at 0x1ef40a34f08>"
      ]
     },
     "execution_count": 12,
     "metadata": {},
     "output_type": "execute_result"
    }
   ],
   "source": [
    "# create a plain world map\n",
    "#https://python-visualization.github.io/folium/quickstart.html#Choropleth-maps\n",
    "seattle_coord = (47.6062, -122.3321)\n",
    "\n",
    "seattle_map = folium.Map(location=seattle_coord, zoom_start=12)\n",
    "\n",
    "coord = np.column_stack((df4.groupby('Cluster_Label')['Cluster_Y'].median().tolist(),\n",
    "                         df4.groupby('Cluster_Label')['Cluster_X'].median().tolist()))\n",
    "\n",
    "marker_cluster = MarkerCluster().add_to(seattle_map)\n",
    "\n",
    "for point in range(len(coord)):\n",
    "    folium.Marker(coord[point]).add_to(marker_cluster)\n",
    "seattle_map.save('seattle_map.html')\n",
    "seattle_map\n"
   ]
  },
  {
   "cell_type": "markdown",
   "metadata": {},
   "source": [
    "NOTE: plot the data to show imbalance of data."
   ]
  },
  {
   "cell_type": "code",
   "execution_count": 13,
   "metadata": {},
   "outputs": [
    {
     "data": {
      "image/png": "[encoded data removed]",
      "text/plain": [
       "<Figure size 432x288 with 1 Axes>"
      ]
     },
     "metadata": {
      "needs_background": "light"
     },
     "output_type": "display_data"
    }
   ],
   "source": [
    "plt1 = sns.countplot(x=df4.SEVERITYCODE, palette = 'deep',data=df)"
   ]
  },
  {
   "cell_type": "markdown",
   "metadata": {},
   "source": [
    "NOTE: create a features and labels dataframe for ML models and for imblearn to oversample/under sample data."
   ]
  },
  {
   "cell_type": "code",
   "execution_count": 14,
   "metadata": {},
   "outputs": [],
   "source": [
    "Features = df4[['ADDRTYPE','COLLISIONTYPE','PERSONCOUNT', 'PEDCOUNT', 'PEDCYLCOUNT', 'VEHCOUNT','SDOT_COLDESC', 'UNDERINFL',\n",
    "                'WEATHER','ROADCOND', 'LIGHTCOND', 'ST_COLDESC', 'HITPARKEDCAR']]\n",
    "Labels = df4.SEVERITYCODE.values"
   ]
  },
  {
   "cell_type": "code",
   "execution_count": 15,
   "metadata": {},
   "outputs": [],
   "source": [
    "X = Features\n",
    "y = Labels"
   ]
  },
  {
   "cell_type": "code",
   "execution_count": 72,
   "metadata": {},
   "outputs": [],
   "source": [
    "#over sampling\n",
    "from imblearn.over_sampling import RandomOverSampler\n",
    "ros = RandomOverSampler(random_state=0)\n",
    "X_resampled, y_resampled = ros.fit_resample(X, y)\n",
    "# #under sampling\n",
    "# from imblearn.under_sampling import RandomUnderSampler\n",
    "# rus = RandomUnderSampler(random_state=0)\n",
    "# X_resampled, y_resampled = rus.fit_resample(X, y)"
   ]
  },
  {
   "cell_type": "markdown",
   "metadata": {},
   "source": [
    "NOTE: plot data after re-sampling"
   ]
  },
  {
   "cell_type": "code",
   "execution_count": 73,
   "metadata": {
    "scrolled": true
   },
   "outputs": [
    {
     "data": {
      "image/png": "[encoded data removed]",
      "text/plain": [
       "<Figure size 432x288 with 1 Axes>"
      ]
     },
     "metadata": {
      "needs_background": "light"
     },
     "output_type": "display_data"
    }
   ],
   "source": [
    "plt1 = sns.countplot(x=y_resampled, palette = 'deep',data=df)"
   ]
  },
  {
   "cell_type": "markdown",
   "metadata": {},
   "source": [
    "NOTE: encode the re-sampled data to change categorical data into numerical data for ML models."
   ]
  },
  {
   "cell_type": "code",
   "execution_count": 74,
   "metadata": {},
   "outputs": [],
   "source": [
    "# Import LabelEncoder\n",
    "from sklearn import preprocessing\n",
    "#creating labelEncoder\n",
    "le = preprocessing.LabelEncoder()\n",
    "# Converting string labels into numbers.\n",
    "Features_encoded = pd.DataFrame()\n",
    "for col in Features.columns:\n",
    "    encoded = le.fit_transform(Features[col])\n",
    "    Features_encoded = pd.concat([Features_encoded,pd.Series(encoded, name=col)], axis=1)\n",
    "    \n",
    "    "
   ]
  },
  {
   "cell_type": "code",
   "execution_count": 75,
   "metadata": {},
   "outputs": [],
   "source": [
    "X = Features_encoded\n",
    "y = Labels"
   ]
  },
  {
   "cell_type": "markdown",
   "metadata": {},
   "source": [
    "# ML models"
   ]
  },
  {
   "cell_type": "markdown",
   "metadata": {},
   "source": [
    "NOTE: import all necessary packages"
   ]
  },
  {
   "cell_type": "code",
   "execution_count": 76,
   "metadata": {},
   "outputs": [],
   "source": [
    "\n",
    "import itertools\n",
    "import numpy as np\n",
    "import matplotlib.pyplot as plt\n",
    "from matplotlib.ticker import NullFormatter\n",
    "import pandas as pd\n",
    "import numpy as np\n",
    "import matplotlib.ticker as ticker\n",
    "\n",
    "import sklearn\n",
    "\n",
    "from sklearn import preprocessing, datasets, metrics\n",
    "#import sklearn models\n",
    "from sklearn.neighbors import KNeighborsClassifier\n",
    "from sklearn.tree import DecisionTreeClassifier\n",
    "from sklearn import svm\n",
    "from sklearn.svm import SVC\n",
    "from sklearn.pipeline import make_pipeline\n",
    "from sklearn.preprocessing import StandardScaler\n",
    "from sklearn.linear_model import LogisticRegression\n",
    "from sklearn.naive_bayes import GaussianNB\n",
    "from sklearn.gaussian_process import GaussianProcessClassifier\n",
    "from sklearn.gaussian_process.kernels import RBF\n",
    "from sklearn.tree import DecisionTreeClassifier\n",
    "from sklearn.ensemble import RandomForestClassifier, AdaBoostClassifier\n",
    "from sklearn.discriminant_analysis import QuadraticDiscriminantAnalysis\n",
    "\n",
    "\n",
    "#import metrics\n",
    "from sklearn.metrics import accuracy_score, precision_score\n",
    "from sklearn.metrics import recall_score, f1_score, jaccard_score, roc_auc_score\n",
    "from sklearn.metrics import classification_report, confusion_matrix\n",
    "\n",
    "\n"
   ]
  },
  {
   "cell_type": "markdown",
   "metadata": {},
   "source": [
    "NOTE: split the data into training and testing datasets"
   ]
  },
  {
   "cell_type": "code",
   "execution_count": 77,
   "metadata": {},
   "outputs": [
    {
     "name": "stdout",
     "output_type": "stream",
     "text": [
      "Train set: (116340, 13) (116340,)\n",
      "Test set: (49860, 13) (49860,)\n"
     ]
    }
   ],
   "source": [
    "from sklearn.model_selection import train_test_split\n",
    "X_train, X_test, y_train, y_test = train_test_split( X, y, test_size=0.3, random_state=4)\n",
    "print ('Train set:', X_train.shape,  y_train.shape)\n",
    "print ('Test set:', X_test.shape,  y_test.shape)"
   ]
  },
  {
   "cell_type": "markdown",
   "metadata": {},
   "source": [
    "# K Nearest Neighbor(KNN)"
   ]
  },
  {
   "cell_type": "markdown",
   "metadata": {},
   "source": [
    "NOTE: find optimal K and run KNN model on training and testing datasets"
   ]
  },
  {
   "cell_type": "code",
   "execution_count": 78,
   "metadata": {
    "scrolled": true
   },
   "outputs": [
    {
     "name": "stdout",
     "output_type": "stream",
     "text": [
      "The best KNN accuracy was with 0.7241075010028079 with k= 6\n"
     ]
    },
    {
     "data": {
      "text/plain": [
       "KNeighborsClassifier(n_neighbors=6)"
      ]
     },
     "execution_count": 78,
     "metadata": {},
     "output_type": "execute_result"
    }
   ],
   "source": [
    "Ks = 8\n",
    "mean_acc = np.zeros((Ks-1))\n",
    "std_acc = np.zeros((Ks-1))\n",
    "ConfustionMx = [];\n",
    "for n in range(1,Ks):\n",
    "\n",
    "    #Train Model and Predict  \n",
    "    neigh = KNeighborsClassifier(n_neighbors = n).fit(X_train,y_train)\n",
    "    yhat=neigh.predict(X_test)\n",
    "    mean_acc[n-1] = metrics.accuracy_score(y_test, yhat)\n",
    "    std_acc[n-1]=np.std(yhat==y_test)/np.sqrt(yhat.shape[0])\n",
    "    \n",
    "#      \n",
    "print( \"The best KNN accuracy was with\", mean_acc.max(), \"with k=\", mean_acc.argmax()+1)\n",
    "\n",
    "k = mean_acc.argmax()+1\n",
    "\n",
    "neigh = KNeighborsClassifier(n_neighbors = k)\n",
    "neigh.fit(X_train,y_train)"
   ]
  },
  {
   "cell_type": "markdown",
   "metadata": {},
   "source": [
    "# Decision Tree"
   ]
  },
  {
   "cell_type": "code",
   "execution_count": 79,
   "metadata": {},
   "outputs": [
    {
     "data": {
      "text/plain": [
       "DecisionTreeClassifier(criterion='entropy', max_depth=4)"
      ]
     },
     "execution_count": 79,
     "metadata": {},
     "output_type": "execute_result"
    }
   ],
   "source": [
    "\n",
    "dtree = DecisionTreeClassifier(criterion=\"entropy\", max_depth = 4)\n",
    "dtree.fit(X_train,y_train)\n"
   ]
  },
  {
   "cell_type": "markdown",
   "metadata": {},
   "source": [
    "# Logistic Regression"
   ]
  },
  {
   "cell_type": "code",
   "execution_count": 80,
   "metadata": {
    "scrolled": true
   },
   "outputs": [
    {
     "data": {
      "text/plain": [
       "LogisticRegression(C=0.01, solver='liblinear')"
      ]
     },
     "execution_count": 80,
     "metadata": {},
     "output_type": "execute_result"
    }
   ],
   "source": [
    "\n",
    "LR = LogisticRegression(C=0.01, solver='liblinear')\n",
    "LR.fit(X_train,y_train)"
   ]
  },
  {
   "cell_type": "markdown",
   "metadata": {},
   "source": [
    "# Naive Bayes"
   ]
  },
  {
   "cell_type": "code",
   "execution_count": 81,
   "metadata": {},
   "outputs": [
    {
     "data": {
      "text/plain": [
       "GaussianNB()"
      ]
     },
     "execution_count": 81,
     "metadata": {},
     "output_type": "execute_result"
    }
   ],
   "source": [
    "\n",
    "# fit a Naive Bayes model to the data\n",
    "NB = GaussianNB()\n",
    "NB.fit(X_train, y_train)"
   ]
  },
  {
   "cell_type": "markdown",
   "metadata": {},
   "source": [
    "# Random Forest"
   ]
  },
  {
   "cell_type": "code",
   "execution_count": 82,
   "metadata": {},
   "outputs": [
    {
     "data": {
      "text/plain": [
       "RandomForestClassifier()"
      ]
     },
     "execution_count": 82,
     "metadata": {},
     "output_type": "execute_result"
    }
   ],
   "source": [
    "\n",
    "RNDF = RandomForestClassifier()\n",
    "RNDF.fit(X_train, y_train)\n"
   ]
  },
  {
   "cell_type": "markdown",
   "metadata": {},
   "source": [
    "# Model Evaluation using Test set"
   ]
  },
  {
   "cell_type": "markdown",
   "metadata": {},
   "source": [
    "NOTE: create a report that compares several model metrics"
   ]
  },
  {
   "cell_type": "code",
   "execution_count": 83,
   "metadata": {},
   "outputs": [],
   "source": [
    "yhat_test = neigh.predict(X_test)\n",
    "yhat_dtree_test = dtree.predict(X_test)\n",
    "yhat_LR_test = LR.predict(X_test) \n",
    "yhat_NB_test = NB.predict(X_test)\n",
    "yhat_RNDF_test = RNDF.predict(X_test)"
   ]
  },
  {
   "cell_type": "code",
   "execution_count": 84,
   "metadata": {},
   "outputs": [],
   "source": [
    "report = pd.DataFrame(columns=['Jaccard','F1-score','Recall','Precision'], index = ['K Neighbors','DecisionTree','LogisticRegression','Naive Bayes','Random Forest'])"
   ]
  },
  {
   "cell_type": "code",
   "execution_count": 85,
   "metadata": {
    "scrolled": true
   },
   "outputs": [
    {
     "data": {
      "text/html": [
       "<div>\n",
       "<style scoped>\n",
       "    .dataframe tbody tr th:only-of-type {\n",
       "        vertical-align: middle;\n",
       "    }\n",
       "\n",
       "    .dataframe tbody tr th {\n",
       "        vertical-align: top;\n",
       "    }\n",
       "\n",
       "    .dataframe thead th {\n",
       "        text-align: right;\n",
       "    }\n",
       "</style>\n",
       "<table border=\"1\" class=\"dataframe\">\n",
       "  <thead>\n",
       "    <tr style=\"text-align: right;\">\n",
       "      <th></th>\n",
       "      <th>Jaccard</th>\n",
       "      <th>F1-score</th>\n",
       "      <th>Recall</th>\n",
       "      <th>Precision</th>\n",
       "    </tr>\n",
       "  </thead>\n",
       "  <tbody>\n",
       "    <tr>\n",
       "      <td>K Neighbors</td>\n",
       "      <td>0.689362</td>\n",
       "      <td>0.694387</td>\n",
       "      <td>0.724108</td>\n",
       "      <td>0.71193</td>\n",
       "    </tr>\n",
       "    <tr>\n",
       "      <td>DecisionTree</td>\n",
       "      <td>0.706268</td>\n",
       "      <td>0.659339</td>\n",
       "      <td>0.72509</td>\n",
       "      <td>0.768958</td>\n",
       "    </tr>\n",
       "    <tr>\n",
       "      <td>LogisticRegression</td>\n",
       "      <td>0.704081</td>\n",
       "      <td>0.673087</td>\n",
       "      <td>0.727056</td>\n",
       "      <td>0.744422</td>\n",
       "    </tr>\n",
       "    <tr>\n",
       "      <td>Naive Bayes</td>\n",
       "      <td>0.69427</td>\n",
       "      <td>0.663835</td>\n",
       "      <td>0.717369</td>\n",
       "      <td>0.72101</td>\n",
       "    </tr>\n",
       "    <tr>\n",
       "      <td>Random Forest</td>\n",
       "      <td>0.692533</td>\n",
       "      <td>0.705986</td>\n",
       "      <td>0.730525</td>\n",
       "      <td>0.718708</td>\n",
       "    </tr>\n",
       "  </tbody>\n",
       "</table>\n",
       "</div>"
      ],
      "text/plain": [
       "                     Jaccard  F1-score    Recall Precision\n",
       "K Neighbors         0.689362  0.694387  0.724108   0.71193\n",
       "DecisionTree        0.706268  0.659339   0.72509  0.768958\n",
       "LogisticRegression  0.704081  0.673087  0.727056  0.744422\n",
       "Naive Bayes          0.69427  0.663835  0.717369   0.72101\n",
       "Random Forest       0.692533  0.705986  0.730525  0.718708"
      ]
     },
     "execution_count": 85,
     "metadata": {},
     "output_type": "execute_result"
    }
   ],
   "source": [
    "#evaluations\n",
    "from sklearn.metrics import jaccard_score\n",
    "report['Jaccard'][0] = jaccard_score(y_test, yhat_test)\n",
    "report['Jaccard'][1] = jaccard_score(y_test, yhat_dtree_test)\n",
    "report['Jaccard'][2] = jaccard_score(y_test, yhat_LR_test)\n",
    "report['Jaccard'][3] = jaccard_score(y_test, yhat_NB_test)\n",
    "report['Jaccard'][4] = jaccard_score(y_test, yhat_RNDF_test)\n",
    "\n",
    "report['F1-score'][0] = f1_score(y_test,yhat_test,average='weighted')\n",
    "report['F1-score'][1] = f1_score(y_test,yhat_dtree_test,average='weighted')\n",
    "report['F1-score'][2] = f1_score(y_test,yhat_LR_test,average='weighted')\n",
    "report['F1-score'][3] = f1_score(y_test,yhat_NB_test,average='weighted')\n",
    "report['F1-score'][4] = f1_score(y_test,yhat_RNDF_test,average='weighted')\n",
    "\n",
    "report['Recall'][0] = recall_score(y_test,yhat_test,average='weighted')\n",
    "report['Recall'][1] = recall_score(y_test,yhat_dtree_test,average='weighted')\n",
    "report['Recall'][2] = recall_score(y_test,yhat_LR_test,average='weighted')\n",
    "report['Recall'][3] = recall_score(y_test,yhat_NB_test,average='weighted')\n",
    "report['Recall'][4] = recall_score(y_test,yhat_RNDF_test,average='weighted')\n",
    "\n",
    "report['Precision'][0] = precision_score(y_test,yhat_test,average='weighted')\n",
    "report['Precision'][1] = precision_score(y_test,yhat_dtree_test,average='weighted')\n",
    "report['Precision'][2] = precision_score(y_test,yhat_LR_test,average='weighted')\n",
    "report['Precision'][3] = precision_score(y_test,yhat_NB_test,average='weighted')\n",
    "report['Precision'][4] = precision_score(y_test,yhat_RNDF_test,average='weighted')\n",
    "\n",
    "\n",
    "report"
   ]
  },
  {
   "cell_type": "markdown",
   "metadata": {},
   "source": [
    "NOTE: plot matrices for the various models to determine performance."
   ]
  },
  {
   "cell_type": "code",
   "execution_count": 86,
   "metadata": {},
   "outputs": [
    {
     "name": "stdout",
     "output_type": "stream",
     "text": [
      "K Neighbors\n",
      "[[41428     0]\n",
      " [    0  8432]]\n"
     ]
    },
    {
     "data": {
      "image/png": "[encoded data removed]",
      "text/plain": [
       "<Figure size 432x288 with 2 Axes>"
      ]
     },
     "metadata": {
      "needs_background": "light"
     },
     "output_type": "display_data"
    }
   ],
   "source": [
    "from sklearn.metrics import plot_confusion_matrix\n",
    "\n",
    "# Plot non-normalized confusion matrix\n",
    "\n",
    "disp = plot_confusion_matrix(neigh, X_test, yhat_test,\n",
    "                             cmap=plt.cm.Blues,normalize=None)\n",
    "disp.ax_.set_title('Confusion Matrix')\n",
    "\n",
    "print('K Neighbors')\n",
    "print(disp.confusion_matrix)\n",
    "\n",
    "plt.show()\n",
    "\n"
   ]
  },
  {
   "cell_type": "code",
   "execution_count": 87,
   "metadata": {},
   "outputs": [
    {
     "name": "stdout",
     "output_type": "stream",
     "text": [
      "dtree\n",
      "[[41330    98]\n",
      " [ 4911  3521]]\n"
     ]
    },
    {
     "data": {
      "image/png": "[encoded data removed]",
      "text/plain": [
       "<Figure size 432x288 with 2 Axes>"
      ]
     },
     "metadata": {
      "needs_background": "light"
     },
     "output_type": "display_data"
    }
   ],
   "source": [
    "from sklearn.metrics import plot_confusion_matrix\n",
    "\n",
    "# Plot non-normalized confusion matrix\n",
    "\n",
    "disp = plot_confusion_matrix(dtree, X_test, yhat_test,\n",
    "                             cmap=plt.cm.Blues,normalize=None)\n",
    "disp.ax_.set_title('Confusion Matrix')\n",
    "\n",
    "print('dtree')\n",
    "print(disp.confusion_matrix)\n",
    "\n",
    "plt.show()"
   ]
  },
  {
   "cell_type": "code",
   "execution_count": 88,
   "metadata": {},
   "outputs": [
    {
     "name": "stdout",
     "output_type": "stream",
     "text": [
      "Logistic Regression\n",
      "[[40477   951]\n",
      " [ 4510  3922]]\n"
     ]
    },
    {
     "data": {
      "image/png": "[encoded data removed]",
      "text/plain": [
       "<Figure size 432x288 with 2 Axes>"
      ]
     },
     "metadata": {
      "needs_background": "light"
     },
     "output_type": "display_data"
    }
   ],
   "source": [
    "from sklearn.metrics import plot_confusion_matrix\n",
    "\n",
    "# Plot non-normalized confusion matrix\n",
    "\n",
    "disp = plot_confusion_matrix(LR, X_test, yhat_test,\n",
    "                             cmap=plt.cm.Blues,normalize=None)\n",
    "disp.ax_.set_title('Confusion Matrix')\n",
    "\n",
    "print('Logistic Regression')\n",
    "print(disp.confusion_matrix)\n",
    "\n",
    "plt.show()"
   ]
  },
  {
   "cell_type": "code",
   "execution_count": 89,
   "metadata": {},
   "outputs": [
    {
     "name": "stdout",
     "output_type": "stream",
     "text": [
      "Naive Bayes\n",
      "[[40181  1247]\n",
      " [ 4531  3901]]\n"
     ]
    },
    {
     "data": {
      "image/png": "[encoded data removed]",
      "text/plain": [
       "<Figure size 432x288 with 2 Axes>"
      ]
     },
     "metadata": {
      "needs_background": "light"
     },
     "output_type": "display_data"
    }
   ],
   "source": [
    "from sklearn.metrics import plot_confusion_matrix\n",
    "\n",
    "# Plot non-normalized confusion matrix\n",
    "\n",
    "disp = plot_confusion_matrix(NB, X_test, yhat_test,\n",
    "                             cmap=plt.cm.Blues,normalize=None)\n",
    "disp.ax_.set_title('Confusion Matrix')\n",
    "\n",
    "print('Naive Bayes')\n",
    "print(disp.confusion_matrix)\n",
    "\n",
    "plt.show()"
   ]
  },
  {
   "cell_type": "code",
   "execution_count": 90,
   "metadata": {},
   "outputs": [
    {
     "name": "stdout",
     "output_type": "stream",
     "text": [
      "Random Forest\n",
      "[[38061  3367]\n",
      " [ 2519  5913]]\n"
     ]
    },
    {
     "data": {
      "image/png": "[encoded data removed]",
      "text/plain": [
       "<Figure size 432x288 with 2 Axes>"
      ]
     },
     "metadata": {
      "needs_background": "light"
     },
     "output_type": "display_data"
    }
   ],
   "source": [
    "from sklearn.metrics import plot_confusion_matrix\n",
    "\n",
    "# Plot non-normalized confusion matrix\n",
    "\n",
    "disp = plot_confusion_matrix(RNDF, X_test, yhat_test,\n",
    "                             cmap=plt.cm.Blues,normalize=None)\n",
    "disp.ax_.set_title('Confusion Matrix')\n",
    "\n",
    "print('Random Forest')\n",
    "print(disp.confusion_matrix)\n",
    "\n",
    "plt.show()"
   ]
  }
 ],
 "metadata": {
  "kernelspec": {
   "display_name": "Python 3",
   "language": "python",
   "name": "python3"
  },
  "language_info": {
   "codemirror_mode": {
    "name": "ipython",
    "version": 3
   },
   "file_extension": ".py",
   "mimetype": "text/x-python",
   "name": "python",
   "nbconvert_exporter": "python",
   "pygments_lexer": "ipython3",
   "version": "3.7.4"
  }
 },
 "nbformat": 4,
 "nbformat_minor": 2
}
